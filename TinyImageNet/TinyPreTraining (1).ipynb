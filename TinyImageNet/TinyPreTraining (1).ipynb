{
  "nbformat": 4,
  "nbformat_minor": 0,
  "metadata": {
    "colab": {
      "provenance": [],
      "machine_shape": "hm",
      "gpuType": "A100"
    },
    "kernelspec": {
      "name": "python3",
      "display_name": "Python 3"
    },
    "language_info": {
      "name": "python"
    },
    "accelerator": "GPU"
  },
  "cells": [
    {
      "cell_type": "code",
      "source": [
        "!pip install torch torchvision pyyaml submitit\n"
      ],
      "metadata": {
        "id": "LIGawFP4HqvA"
      },
      "execution_count": null,
      "outputs": []
    },
    {
      "cell_type": "code",
      "source": [
        "!git clone https://github.com/gj33/IJEPATinyImageNet\n",
        "\n"
      ],
      "metadata": {
        "id": "U5P12iN-INKi"
      },
      "execution_count": null,
      "outputs": []
    },
    {
      "cell_type": "code",
      "source": [
        "from google.colab import drive\n",
        "drive.mount('/content/drive')"
      ],
      "metadata": {
        "id": "tmQDG21FF-Jp",
        "colab": {
          "base_uri": "https://localhost:8080/"
        },
        "outputId": "e20a4064-7d2e-41b0-f346-79f77d7f0852"
      },
      "execution_count": 5,
      "outputs": [
        {
          "output_type": "stream",
          "name": "stdout",
          "text": [
            "Mounted at /content/drive\n"
          ]
        }
      ]
    },
    {
      "cell_type": "code",
      "source": [
        "!mkdir -p /content/ijepa/data/tiny-imagenet"
      ],
      "metadata": {
        "id": "Q7D_9dVCGP2Q"
      },
      "execution_count": 6,
      "outputs": []
    },
    {
      "cell_type": "code",
      "source": [
        "!unzip /content/drive/MyDrive/TinyImageNet/tiny-imagenet-200.zip -d /content/ijepa/data/tiny-imagenet/"
      ],
      "metadata": {
        "id": "Pd0nMSEOK_up"
      },
      "execution_count": null,
      "outputs": []
    },
    {
      "cell_type": "code",
      "source": [
        "!mkdir -p /content/drive/MyDrive/ijepa_logs/OutputTiny2//\n"
      ],
      "metadata": {
        "id": "LnTljxwRrKgi"
      },
      "execution_count": 10,
      "outputs": []
    },
    {
      "cell_type": "code",
      "source": [
        "!python IJEPATinyImageNet/main.py --fname IJEPATinyImageNet/configs/TinyConfigs.yaml --devices cuda:0\n"
      ],
      "metadata": {
        "id": "s0Goh9kjc0ac",
        "colab": {
          "base_uri": "https://localhost:8080/"
        },
        "outputId": "6d8776e3-89f1-4924-c09c-5146cf095572"
      },
      "execution_count": null,
      "outputs": [
        {
          "output_type": "stream",
          "name": "stdout",
          "text": [
            "INFO:root:called-params IJEPATinyImageNet/configs/TinyConfigs.yaml\n",
            "INFO:root:loaded params...\n",
            "{   'data': {   'batch_size': 8,\n",
            "                'color_jitter_strength': 0.0,\n",
            "                'crop_scale': [0.3, 1.0],\n",
            "                'crop_size': 64,\n",
            "                'image_folder': 'tiny-imagenet-200',\n",
            "                'num_workers': 10,\n",
            "                'pin_mem': True,\n",
            "                'root_path': '/content/ijepa/data/tiny-imagenet',\n",
            "                'use_color_distortion': False,\n",
            "                'use_gaussian_blur': False,\n",
            "                'use_horizontal_flip': False},\n",
            "    'logging': {   'folder': '/content/drive/MyDrive/ijepa_logs/OutputTiny2',\n",
            "                   'write_tag': 'jepa'},\n",
            "    'mask': {   'allow_overlap': False,\n",
            "                'aspect_ratio': [0.75, 1.5],\n",
            "                'enc_mask_scale': [0.85, 1.0],\n",
            "                'min_keep': 10,\n",
            "                'num_enc_masks': 1,\n",
            "                'num_pred_masks': 4,\n",
            "                'patch_size': 4,\n",
            "                'pred_mask_scale': [0.15, 0.2]},\n",
            "    'meta': {   'copy_data': False,\n",
            "                'load_checkpoint': False,\n",
            "                'model_name': 'vit_huge',\n",
            "                'pred_depth': 12,\n",
            "                'pred_emb_dim': 384,\n",
            "                'read_checkpoint': None,\n",
            "                'use_bfloat16': True},\n",
            "    'optimization': {   'ema': [0.996, 1.0],\n",
            "                        'epochs': 1,\n",
            "                        'final_lr': 1e-06,\n",
            "                        'final_weight_decay': 0.4,\n",
            "                        'ipe_scale': 1.0,\n",
            "                        'lr': 0.001,\n",
            "                        'start_lr': 0.0002,\n",
            "                        'warmup': 0,\n",
            "                        'weight_decay': 0.04}}\n",
            "INFO:root:Running... (rank: 0/1)\n",
            "INFO:root:Initialized (rank/world-size) 0/1\n",
            "INFO:root:VisionTransformer(\n",
            "  (patch_embed): PatchEmbed(\n",
            "    (proj): Conv2d(3, 1280, kernel_size=(4, 4), stride=(4, 4))\n",
            "  )\n",
            "  (blocks): ModuleList(\n",
            "    (0-31): 32 x Block(\n",
            "      (norm1): LayerNorm((1280,), eps=1e-06, elementwise_affine=True)\n",
            "      (attn): Attention(\n",
            "        (qkv): Linear(in_features=1280, out_features=3840, bias=True)\n",
            "        (attn_drop): Dropout(p=0.0, inplace=False)\n",
            "        (proj): Linear(in_features=1280, out_features=1280, bias=True)\n",
            "        (proj_drop): Dropout(p=0.0, inplace=False)\n",
            "      )\n",
            "      (drop_path): Identity()\n",
            "      (norm2): LayerNorm((1280,), eps=1e-06, elementwise_affine=True)\n",
            "      (mlp): MLP(\n",
            "        (fc1): Linear(in_features=1280, out_features=5120, bias=True)\n",
            "        (act): GELU(approximate='none')\n",
            "        (fc2): Linear(in_features=5120, out_features=1280, bias=True)\n",
            "        (drop): Dropout(p=0.0, inplace=False)\n",
            "      )\n",
            "    )\n",
            "  )\n",
            "  (norm): LayerNorm((1280,), eps=1e-06, elementwise_affine=True)\n",
            ")\n",
            "INFO:root:making imagenet data transforms\n",
            "INFO:root:data-path /content/ijepa/data/tiny-imagenet/tiny-imagenet-200/train/\n",
            "INFO:root:Initialized ImageNet\n",
            "INFO:root:ImageNet dataset created\n",
            "INFO:root:ImageNet unsupervised data loader created\n",
            "INFO:root:Using AdamW\n",
            "/content/IJEPATinyImageNet/src/helper.py:155: FutureWarning: `torch.cuda.amp.GradScaler(args...)` is deprecated. Please use `torch.amp.GradScaler('cuda', args...)` instead.\n",
            "  scaler = torch.cuda.amp.GradScaler() if use_bfloat16 else None\n",
            "INFO:root:Epoch 1\n",
            "/content/IJEPATinyImageNet/src/train.py:316: FutureWarning: `torch.cuda.amp.autocast(args...)` is deprecated. Please use `torch.amp.autocast('cuda', args...)` instead.\n",
            "  with torch.cuda.amp.autocast(dtype=torch.bfloat16, enabled=use_bfloat16):\n",
            "INFO:root:[1,     0] loss: 0.484 masks: 98.0 42.0 [wd: 4.00e-02] [lr: 1.00e-03] [mem: 1.99e+04] (1185.3 ms)\n",
            "INFO:root:[1,     0] grad_stats: [1.09e-01 1.85e-02] (9.33e-03, 1.10e-01)\n",
            "INFO:root:[1,    10] loss: 0.185 masks: 85.7 43.0 [wd: 4.00e-02] [lr: 1.00e-03] [mem: 2.01e+04] (671.5 ms)\n",
            "INFO:root:[1,    10] grad_stats: [2.82e-05 3.19e-05] (5.27e-06, 1.61e-04)\n",
            "INFO:root:[1,    20] loss: 0.107 masks: 87.6 43.1 [wd: 4.00e-02] [lr: 1.00e-03] [mem: 2.01e+04] (652.1 ms)\n",
            "INFO:root:[1,    20] grad_stats: [5.02e-06 5.63e-06] (1.25e-06, 3.33e-05)\n",
            "INFO:root:[1,    30] loss: 0.075 masks: 86.5 43.9 [wd: 4.00e-02] [lr: 1.00e-03] [mem: 2.01e+04] (642.8 ms)\n",
            "INFO:root:[1,    30] grad_stats: [7.55e-07 8.96e-07] (1.92e-07, 5.38e-06)\n",
            "INFO:root:[1,    40] loss: 0.057 masks: 86.3 43.7 [wd: 4.00e-02] [lr: 1.00e-03] [mem: 2.01e+04] (638.4 ms)\n",
            "INFO:root:[1,    40] grad_stats: [4.04e-07 4.89e-07] (6.81e-08, 3.11e-06)\n",
            "INFO:root:[1,    50] loss: 0.046 masks: 86.6 43.7 [wd: 4.00e-02] [lr: 1.00e-03] [mem: 2.01e+04] (636.6 ms)\n",
            "INFO:root:[1,    50] grad_stats: [1.17e-07 1.50e-07] (2.75e-08, 8.84e-07)\n"
          ]
        }
      ]
    }
  ]
}